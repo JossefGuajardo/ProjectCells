{
 "cells": [
  {
   "cell_type": "code",
   "execution_count": 1,
   "metadata": {},
   "outputs": [],
   "source": [
    "import pandas as pd\n",
    "import numpy as np\n",
    "import matplotlib.pyplot as plt\n",
    "import pywt\n",
    "%matplotlib inline"
   ]
  },
  {
   "cell_type": "code",
   "execution_count": 2,
   "metadata": {},
   "outputs": [
    {
     "data": {
      "text/html": [
       "<div>\n",
       "<style scoped>\n",
       "    .dataframe tbody tr th:only-of-type {\n",
       "        vertical-align: middle;\n",
       "    }\n",
       "\n",
       "    .dataframe tbody tr th {\n",
       "        vertical-align: top;\n",
       "    }\n",
       "\n",
       "    .dataframe thead th {\n",
       "        text-align: right;\n",
       "    }\n",
       "</style>\n",
       "<table border=\"1\" class=\"dataframe\">\n",
       "  <thead>\n",
       "    <tr style=\"text-align: right;\">\n",
       "      <th></th>\n",
       "      <th>x</th>\n",
       "      <th>y</th>\n",
       "      <th>z</th>\n",
       "      <th>t</th>\n",
       "      <th>layer</th>\n",
       "      <th>id</th>\n",
       "    </tr>\n",
       "  </thead>\n",
       "  <tbody>\n",
       "    <tr>\n",
       "      <th>0</th>\n",
       "      <td>-147.814283</td>\n",
       "      <td>-165.467769</td>\n",
       "      <td>47.131947</td>\n",
       "      <td>1</td>\n",
       "      <td>1</td>\n",
       "      <td>1</td>\n",
       "    </tr>\n",
       "    <tr>\n",
       "      <th>1</th>\n",
       "      <td>-150.808280</td>\n",
       "      <td>-152.973941</td>\n",
       "      <td>50.887035</td>\n",
       "      <td>2</td>\n",
       "      <td>1</td>\n",
       "      <td>1</td>\n",
       "    </tr>\n",
       "    <tr>\n",
       "      <th>2</th>\n",
       "      <td>-152.294793</td>\n",
       "      <td>-151.385903</td>\n",
       "      <td>58.260303</td>\n",
       "      <td>3</td>\n",
       "      <td>1</td>\n",
       "      <td>1</td>\n",
       "    </tr>\n",
       "    <tr>\n",
       "      <th>3</th>\n",
       "      <td>-149.489305</td>\n",
       "      <td>-151.300336</td>\n",
       "      <td>65.102116</td>\n",
       "      <td>4</td>\n",
       "      <td>1</td>\n",
       "      <td>1</td>\n",
       "    </tr>\n",
       "    <tr>\n",
       "      <th>4</th>\n",
       "      <td>-149.111093</td>\n",
       "      <td>-150.414899</td>\n",
       "      <td>61.139568</td>\n",
       "      <td>5</td>\n",
       "      <td>1</td>\n",
       "      <td>1</td>\n",
       "    </tr>\n",
       "    <tr>\n",
       "      <th>...</th>\n",
       "      <td>...</td>\n",
       "      <td>...</td>\n",
       "      <td>...</td>\n",
       "      <td>...</td>\n",
       "      <td>...</td>\n",
       "      <td>...</td>\n",
       "    </tr>\n",
       "    <tr>\n",
       "      <th>1727519</th>\n",
       "      <td>-161.742274</td>\n",
       "      <td>269.434709</td>\n",
       "      <td>-12.104361</td>\n",
       "      <td>420</td>\n",
       "      <td>3</td>\n",
       "      <td>12196</td>\n",
       "    </tr>\n",
       "    <tr>\n",
       "      <th>1727520</th>\n",
       "      <td>-144.169975</td>\n",
       "      <td>55.590522</td>\n",
       "      <td>128.257221</td>\n",
       "      <td>417</td>\n",
       "      <td>3</td>\n",
       "      <td>12197</td>\n",
       "    </tr>\n",
       "    <tr>\n",
       "      <th>1727521</th>\n",
       "      <td>-144.487019</td>\n",
       "      <td>56.224228</td>\n",
       "      <td>126.868747</td>\n",
       "      <td>418</td>\n",
       "      <td>3</td>\n",
       "      <td>12197</td>\n",
       "    </tr>\n",
       "    <tr>\n",
       "      <th>1727522</th>\n",
       "      <td>-142.992843</td>\n",
       "      <td>57.856776</td>\n",
       "      <td>127.278687</td>\n",
       "      <td>419</td>\n",
       "      <td>3</td>\n",
       "      <td>12197</td>\n",
       "    </tr>\n",
       "    <tr>\n",
       "      <th>1727523</th>\n",
       "      <td>-143.225134</td>\n",
       "      <td>58.024572</td>\n",
       "      <td>127.456680</td>\n",
       "      <td>420</td>\n",
       "      <td>3</td>\n",
       "      <td>12197</td>\n",
       "    </tr>\n",
       "  </tbody>\n",
       "</table>\n",
       "<p>1727524 rows × 6 columns</p>\n",
       "</div>"
      ],
      "text/plain": [
       "                  x           y           z    t  layer     id\n",
       "0       -147.814283 -165.467769   47.131947    1      1      1\n",
       "1       -150.808280 -152.973941   50.887035    2      1      1\n",
       "2       -152.294793 -151.385903   58.260303    3      1      1\n",
       "3       -149.489305 -151.300336   65.102116    4      1      1\n",
       "4       -149.111093 -150.414899   61.139568    5      1      1\n",
       "...             ...         ...         ...  ...    ...    ...\n",
       "1727519 -161.742274  269.434709  -12.104361  420      3  12196\n",
       "1727520 -144.169975   55.590522  128.257221  417      3  12197\n",
       "1727521 -144.487019   56.224228  126.868747  418      3  12197\n",
       "1727522 -142.992843   57.856776  127.278687  419      3  12197\n",
       "1727523 -143.225134   58.024572  127.456680  420      3  12197\n",
       "\n",
       "[1727524 rows x 6 columns]"
      ]
     },
     "execution_count": 2,
     "metadata": {},
     "output_type": "execute_result"
    }
   ],
   "source": [
    "data= pd.read_csv(\"cell-tracks-original.csv\")\n",
    "data"
   ]
  },
  {
   "cell_type": "code",
   "execution_count": 3,
   "metadata": {},
   "outputs": [],
   "source": [
    "#Capa 1 de células\n",
    "cell_layer1 = []\n",
    "dci, cil1 = [x for _, x in data.groupby((data['layer'] == 1))]\n",
    "cell_layer1.append(cil1)"
   ]
  },
  {
   "cell_type": "code",
   "execution_count": 4,
   "metadata": {},
   "outputs": [
    {
     "data": {
      "text/plain": [
       "array([    1,     1,     1, ..., 36411, 36411, 36411])"
      ]
     },
     "execution_count": 4,
     "metadata": {},
     "output_type": "execute_result"
    }
   ],
   "source": [
    "alayer1=cell_layer1[0].to_numpy()\n",
    "layer1_id=alayer1[:,5]\n",
    "ilayer1_id= layer1_id.astype(int)\n",
    "ilayer1_id"
   ]
  },
  {
   "cell_type": "code",
   "execution_count": 6,
   "metadata": {},
   "outputs": [],
   "source": [
    "list1= []\n",
    "for i in range(1,36412):\n",
    "    celli= np.where(ilayer1_id==i)[0]\n",
    "    len(celli)\n",
    "    list1.append(len(celli))"
   ]
  },
  {
   "cell_type": "code",
   "execution_count": 7,
   "metadata": {},
   "outputs": [],
   "source": [
    "list2= list1\n",
    "for j in range(1,36411):\n",
    "    list2[j]= list2[j]+list2[j-1]"
   ]
  },
  {
   "cell_type": "code",
   "execution_count": 8,
   "metadata": {},
   "outputs": [],
   "source": [
    "celllay1 = [alayer1[: list2[0],:4]]\n",
    "for k in range(1,36411):\n",
    "    celllay1.append(alayer1[list2[k-1]+1: list2[k],:4])"
   ]
  },
  {
   "cell_type": "code",
   "execution_count": 65,
   "metadata": {},
   "outputs": [
    {
     "data": {
      "image/png": "[encoded data removed]",
      "text/plain": [
       "<Figure size 432x288 with 1 Axes>"
      ]
     },
     "metadata": {
      "needs_background": "light"
     },
     "output_type": "display_data"
    }
   ],
   "source": [
    "#Ejemplo de plot de trayectoria celllayer1[#célula][trayectoria x y o z] y en celllay1[#celula][tiempo]\n",
    "plt.plot(celllay1[2][:,0:1], celllay1[2][:,3:4])\n"
   ]
  },
  {
   "cell_type": "code",
   "execution_count": 10,
   "metadata": {},
   "outputs": [],
   "source": [
    "#capa 2 de células\n",
    "cell_layer2 = []\n",
    "dci, cil2 = [x for _, x in data.groupby((data['layer'] == 2))]\n",
    "cell_layer2.append(cil2)"
   ]
  },
  {
   "cell_type": "code",
   "execution_count": 11,
   "metadata": {},
   "outputs": [],
   "source": [
    "alayer2=cell_layer2[0].to_numpy()\n",
    "layer2_id=alayer2[:,5]\n",
    "ilayer2_id= layer2_id.astype(int)"
   ]
  },
  {
   "cell_type": "code",
   "execution_count": 12,
   "metadata": {},
   "outputs": [],
   "source": [
    "list3= []\n",
    "for l in range(1,52770):\n",
    "    cellj= np.where(ilayer2_id==l)[0]\n",
    "    len(cellj)\n",
    "    list3.append(len(cellj))"
   ]
  },
  {
   "cell_type": "code",
   "execution_count": 13,
   "metadata": {},
   "outputs": [],
   "source": [
    "list4= list3\n",
    "for n in range(1,52769):\n",
    "    list4[n]= list4[n]+list4[n-1]"
   ]
  },
  {
   "cell_type": "code",
   "execution_count": 14,
   "metadata": {},
   "outputs": [],
   "source": [
    "celllay2 = [alayer2[: list4[0],:4]]\n",
    "for m in range(1,52769):\n",
    "    celllay2.append(alayer2[list4[m-1]+1: list4[m],:4])"
   ]
  },
  {
   "cell_type": "code",
   "execution_count": 15,
   "metadata": {},
   "outputs": [],
   "source": [
    "#capa 3 de células\n",
    "cell_layer3 = []\n",
    "dci, cil3 = [x for _, x in data.groupby((data['layer'] == 3))]\n",
    "cell_layer3.append(cil3)"
   ]
  },
  {
   "cell_type": "code",
   "execution_count": 16,
   "metadata": {},
   "outputs": [],
   "source": [
    "alayer3=cell_layer3[0].to_numpy()\n",
    "layer3_id=alayer3[:,5]\n",
    "ilayer3_id= layer3_id.astype(int)"
   ]
  },
  {
   "cell_type": "code",
   "execution_count": 17,
   "metadata": {},
   "outputs": [],
   "source": [
    "list5= []\n",
    "for d in range(1,12198):\n",
    "    celld= np.where(ilayer3_id==d)[0]\n",
    "    len(celld)\n",
    "    list5.append(len(celld))"
   ]
  },
  {
   "cell_type": "code",
   "execution_count": 18,
   "metadata": {},
   "outputs": [],
   "source": [
    "list6= list5\n",
    "for f in range(1,12197):\n",
    "    list6[f]= list6[f]+list6[f-1]"
   ]
  },
  {
   "cell_type": "code",
   "execution_count": 19,
   "metadata": {},
   "outputs": [],
   "source": [
    "celllay3 = [alayer3[: list6[0],:4]]\n",
    "for m in range(1,12197):\n",
    "    celllay3.append(alayer3[list6[m-1]+1: list6[m],:4])"
   ]
  },
  {
   "cell_type": "code",
   "execution_count": 20,
   "metadata": {},
   "outputs": [
    {
     "data": {
      "text/plain": [
       "[<matplotlib.lines.Line2D at 0x99028b0>]"
      ]
     },
     "execution_count": 20,
     "metadata": {},
     "output_type": "execute_result"
    },
    {
     "data": {
      "image/png": "[encoded data removed]",
      "text/plain": [
       "<Figure size 432x288 with 1 Axes>"
      ]
     },
     "metadata": {
      "needs_background": "light"
     },
     "output_type": "display_data"
    }
   ],
   "source": [
    "plt.plot(celllay3[12000][0], celllay3[12000][3])"
   ]
  },
  {
   "cell_type": "code",
   "execution_count": null,
   "metadata": {},
   "outputs": [],
   "source": []
  }
 ],
 "metadata": {
  "kernelspec": {
   "display_name": "Python 3",
   "language": "python",
   "name": "python3"
  },
  "language_info": {
   "codemirror_mode": {
    "name": "ipython",
    "version": 3
   },
   "file_extension": ".py",
   "mimetype": "text/x-python",
   "name": "python",
   "nbconvert_exporter": "python",
   "pygments_lexer": "ipython3",
   "version": "3.8.3"
  }
 },
 "nbformat": 4,
 "nbformat_minor": 4
}
